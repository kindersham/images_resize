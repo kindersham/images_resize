{
 "cells": [
  {
   "cell_type": "code",
   "execution_count": 6,
   "id": "e6c9c80a",
   "metadata": {
    "ExecuteTime": {
     "end_time": "2022-06-26T04:55:48.195960Z",
     "start_time": "2022-06-26T04:55:48.185961Z"
    },
    "deletable": false,
    "editable": false
   },
   "outputs": [],
   "source": [
    "import cv2\n",
    "import os\n",
    "import glob\n",
    "import matplotlib.pyplot as plt\n",
    "\n",
    "from PIL import Image\n",
    "from PIL import ImageEnhance"
   ]
  },
  {
   "cell_type": "code",
   "execution_count": 7,
   "id": "798087b7",
   "metadata": {
    "ExecuteTime": {
     "end_time": "2022-06-26T04:55:48.443592Z",
     "start_time": "2022-06-26T04:55:48.425532Z"
    }
   },
   "outputs": [],
   "source": [
    "project_name = 'cryptopunks'\n",
    "\n",
    "width = 640\n",
    "height = 640"
   ]
  },
  {
   "cell_type": "code",
   "execution_count": 8,
   "id": "b6bf3e17",
   "metadata": {
    "ExecuteTime": {
     "end_time": "2022-06-26T04:55:48.649829Z",
     "start_time": "2022-06-26T04:55:48.641822Z"
    },
    "deletable": false,
    "editable": false
   },
   "outputs": [],
   "source": [
    "source_path = r\"C:\\Users\\Kinder\\Documents\\NFT\\Collections\\{}\\Output\".format(project_name)\n",
    "resized_path = r\"C:\\Users\\Kinder\\Documents\\NFT\\Collections\\{}\\New\".format(project_name)\n",
    "\n",
    "included_extensions = ['jpg','jpeg', 'bmp', 'png', 'gif']\n",
    "filelists = [fn for fn in os.listdir(source_path)\n",
    "    if any(fn.endswith(ext) for ext in included_extensions)]"
   ]
  },
  {
   "cell_type": "code",
   "execution_count": 14,
   "id": "4907b26b",
   "metadata": {
    "ExecuteTime": {
     "end_time": "2022-06-26T04:57:59.188518Z",
     "start_time": "2022-06-26T04:57:57.929785Z"
    },
    "deletable": false,
    "editable": false
   },
   "outputs": [
    {
     "name": "stdout",
     "output_type": "stream",
     "text": [
      "1656216443.png\n",
      "done\n"
     ]
    }
   ],
   "source": [
    "for file in filelists:\n",
    "    try:\n",
    "        print(file)\n",
    "        outfile = file\n",
    "        \n",
    "        img=cv2.imread('{}\\{}'.format(source_path, file))\n",
    "        \n",
    "        dimension = (width, height)\n",
    "        \n",
    "        resized = cv2.resize(img, dimension, interpolation=cv2.INTER_AREA)\n",
    "        \n",
    "        #print(resized.shape)\n",
    "        \n",
    "        #cv2.imshow('Output:', resized)\n",
    "        \n",
    "        cv2.imwrite(\"{}\\{}\".format(resized_path, file), resized)\n",
    "        \n",
    "        #image = Image.open(\"{}\\{}\".format(resized_path, file))\n",
    "        \n",
    "        #curr_bri = ImageEnhance.Brightness(image)\n",
    "        \n",
    "        #new_bri = 2.5\n",
    "        \n",
    "        #img_brightened = curr_bri.enhance(new_bri)\n",
    "    except IOError:\n",
    "            print (\"cannot create thumbnail for '{}'\".format(file))\n",
    "            \n",
    "print(\"done\")"
   ]
  },
  {
   "cell_type": "code",
   "execution_count": null,
   "id": "3ed18753",
   "metadata": {},
   "outputs": [],
   "source": []
  }
 ],
 "metadata": {
  "kernelspec": {
   "display_name": "Python 3 (ipykernel)",
   "language": "python",
   "name": "python3"
  },
  "language_info": {
   "codemirror_mode": {
    "name": "ipython",
    "version": 3
   },
   "file_extension": ".py",
   "mimetype": "text/x-python",
   "name": "python",
   "nbconvert_exporter": "python",
   "pygments_lexer": "ipython3",
   "version": "3.7.13"
  },
  "varInspector": {
   "cols": {
    "lenName": 16,
    "lenType": 16,
    "lenVar": 40
   },
   "kernels_config": {
    "python": {
     "delete_cmd_postfix": "",
     "delete_cmd_prefix": "del ",
     "library": "var_list.py",
     "varRefreshCmd": "print(var_dic_list())"
    },
    "r": {
     "delete_cmd_postfix": ") ",
     "delete_cmd_prefix": "rm(",
     "library": "var_list.r",
     "varRefreshCmd": "cat(var_dic_list()) "
    }
   },
   "types_to_exclude": [
    "module",
    "function",
    "builtin_function_or_method",
    "instance",
    "_Feature"
   ],
   "window_display": false
  }
 },
 "nbformat": 4,
 "nbformat_minor": 5
}
